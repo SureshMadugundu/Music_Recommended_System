{
 "cells": [
  {
   "cell_type": "code",
   "execution_count": 1,
   "id": "4e44781e",
   "metadata": {},
   "outputs": [
    {
     "name": "stderr",
     "output_type": "stream",
     "text": [
      "/tmp/ipykernel_18883/202135586.py:8: SettingWithCopyWarning: \n",
      "A value is trying to be set on a copy of a slice from a DataFrame.\n",
      "Try using .loc[row_indexer,col_indexer] = value instead\n",
      "\n",
      "See the caveats in the documentation: https://pandas.pydata.org/pandas-docs/stable/user_guide/indexing.html#returning-a-view-versus-a-copy\n",
      "  df1['text']=df1['text'].str.lower().replace(r'[^\\w\\s]','').replace(r'\\n','',regex=True)\n",
      "/tmp/ipykernel_18883/202135586.py:22: SettingWithCopyWarning: \n",
      "A value is trying to be set on a copy of a slice from a DataFrame.\n",
      "Try using .loc[row_indexer,col_indexer] = value instead\n",
      "\n",
      "See the caveats in the documentation: https://pandas.pydata.org/pandas-docs/stable/user_guide/indexing.html#returning-a-view-versus-a-copy\n",
      "  df1['text'] = df1['text'].apply(lambda x:tokenize_and_stem(x))\n"
     ]
    }
   ],
   "source": [
    "import numpy as np\n",
    "import pandas as pd\n",
    "df=pd.read_csv(\"songdata.csv\")\n",
    "df.head()\n",
    "df.sample(n=5).drop('link',axis=1).reset_index(drop=True)\n",
    "df1=df.iloc[:50]\n",
    "df1\n",
    "df1['text']=df1['text'].str.lower().replace(r'[^\\w\\s]','').replace(r'\\n','',regex=True)\n",
    "df1['text'][1]\n",
    "import spacy\n",
    "\n",
    "# Load the English language model\n",
    "nlp = spacy.load(\"en_core_web_sm\")\n",
    "\n",
    "# Tokenization and stemming function\n",
    "def tokenize_and_stem(text):\n",
    "    doc = nlp(text)\n",
    "    stemmed_tokens = [token.lemma_ for token in doc if not token.is_punct]\n",
    "    return \" \".join(stemmed_tokens)\n",
    "\n",
    "# Apply the function to your DataFrame\n",
    "df1['text'] = df1['text'].apply(lambda x:tokenize_and_stem(x))\n",
    "df1['text']\n",
    "from sklearn.feature_extraction.text import TfidfVectorizer\n",
    "from sklearn.metrics.pairwise import cosine_similarity\n",
    "tfid=TfidfVectorizer(stop_words='english')\n",
    "matrix=tfid.fit_transform(df1['text'])\n",
    "matrix.shape\n",
    "similarity=cosine_similarity(matrix)\n",
    "similarity[0]\n",
    "df1['song'][0]\n",
    "df1[df1['song']==\"Ahe's My Kind Of Girl\"]\n",
    "def recommendation(song):\n",
    "    idx=df1[df1['song']==song].index[0]\n",
    "    distances=sorted(list(enumerate(similarity[idx])),reverse=False,key=lambda x:x[1])\n",
    "    songs=[]\n",
    "    for i in distances[1:21]:\n",
    "        songs.append(df.iloc[i[0]].song)\n",
    "        \n",
    "    return songs\n",
    "recommendation(\"Ahe's My Kind Of Girl\")\n",
    "import pickle\n",
    "pickle.dump(df1,open('df1.pkl','wb'))\n",
    "pickle.dump(similarity,open('similarity.pkl','wb'))"
   ]
  },
  {
   "cell_type": "code",
   "execution_count": null,
   "id": "65767418",
   "metadata": {},
   "outputs": [],
   "source": []
  }
 ],
 "metadata": {
  "kernelspec": {
   "display_name": "Python 3 (ipykernel)",
   "language": "python",
   "name": "python3"
  },
  "language_info": {
   "codemirror_mode": {
    "name": "ipython",
    "version": 3
   },
   "file_extension": ".py",
   "mimetype": "text/x-python",
   "name": "python",
   "nbconvert_exporter": "python",
   "pygments_lexer": "ipython3",
   "version": "3.11.5"
  }
 },
 "nbformat": 4,
 "nbformat_minor": 5
}
